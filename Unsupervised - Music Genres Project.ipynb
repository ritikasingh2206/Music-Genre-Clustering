{
 "cells": [
  {
   "cell_type": "code",
   "execution_count": 1,
   "id": "e7bd0e8e",
   "metadata": {},
   "outputs": [],
   "source": [
    "import pandas as pd\n",
    "import numpy as np\n",
    "import seaborn as sns\n",
    "import matplotlib.pyplot as plt\n",
    "%matplotlib inline\n",
    "import warnings\n",
    "warnings.filterwarnings('ignore')\n",
    "from sklearn.cluster import KMeans"
   ]
  },
  {
   "cell_type": "code",
   "execution_count": 2,
   "id": "be0ca24c",
   "metadata": {},
   "outputs": [],
   "source": [
    "df = pd.read_csv(r\"C:\\Users\\hp\\Downloads\\Spotify-2000.csv\")"
   ]
  },
  {
   "cell_type": "code",
   "execution_count": 3,
   "id": "ef6dc1f1",
   "metadata": {},
   "outputs": [
    {
     "data": {
      "text/html": [
       "<div>\n",
       "<style scoped>\n",
       "    .dataframe tbody tr th:only-of-type {\n",
       "        vertical-align: middle;\n",
       "    }\n",
       "\n",
       "    .dataframe tbody tr th {\n",
       "        vertical-align: top;\n",
       "    }\n",
       "\n",
       "    .dataframe thead th {\n",
       "        text-align: right;\n",
       "    }\n",
       "</style>\n",
       "<table border=\"1\" class=\"dataframe\">\n",
       "  <thead>\n",
       "    <tr style=\"text-align: right;\">\n",
       "      <th></th>\n",
       "      <th>Index</th>\n",
       "      <th>Title</th>\n",
       "      <th>Artist</th>\n",
       "      <th>Top Genre</th>\n",
       "      <th>Year</th>\n",
       "      <th>Beats Per Minute (BPM)</th>\n",
       "      <th>Energy</th>\n",
       "      <th>Danceability</th>\n",
       "      <th>Loudness (dB)</th>\n",
       "      <th>Liveness</th>\n",
       "      <th>Valence</th>\n",
       "      <th>Length (Duration)</th>\n",
       "      <th>Acousticness</th>\n",
       "      <th>Speechiness</th>\n",
       "      <th>Popularity</th>\n",
       "    </tr>\n",
       "  </thead>\n",
       "  <tbody>\n",
       "    <tr>\n",
       "      <th>0</th>\n",
       "      <td>1</td>\n",
       "      <td>Sunrise</td>\n",
       "      <td>Norah Jones</td>\n",
       "      <td>adult standards</td>\n",
       "      <td>2004</td>\n",
       "      <td>157</td>\n",
       "      <td>30.0</td>\n",
       "      <td>53.0</td>\n",
       "      <td>-14.0</td>\n",
       "      <td>11.0</td>\n",
       "      <td>68.0</td>\n",
       "      <td>201</td>\n",
       "      <td>94</td>\n",
       "      <td>3</td>\n",
       "      <td>71</td>\n",
       "    </tr>\n",
       "    <tr>\n",
       "      <th>1</th>\n",
       "      <td>2</td>\n",
       "      <td>Black Night</td>\n",
       "      <td>Deep Purple</td>\n",
       "      <td>album rock</td>\n",
       "      <td>2000</td>\n",
       "      <td>135</td>\n",
       "      <td>79.0</td>\n",
       "      <td>50.0</td>\n",
       "      <td>-11.0</td>\n",
       "      <td>17.0</td>\n",
       "      <td>NaN</td>\n",
       "      <td>207</td>\n",
       "      <td>17</td>\n",
       "      <td>7</td>\n",
       "      <td>39</td>\n",
       "    </tr>\n",
       "    <tr>\n",
       "      <th>2</th>\n",
       "      <td>3</td>\n",
       "      <td>Clint Eastwood</td>\n",
       "      <td>Gorillaz</td>\n",
       "      <td>alternative hip hop</td>\n",
       "      <td>2001</td>\n",
       "      <td>168</td>\n",
       "      <td>69.0</td>\n",
       "      <td>66.0</td>\n",
       "      <td>-9.0</td>\n",
       "      <td>7.0</td>\n",
       "      <td>52.0</td>\n",
       "      <td>341</td>\n",
       "      <td>2</td>\n",
       "      <td>17</td>\n",
       "      <td>69</td>\n",
       "    </tr>\n",
       "    <tr>\n",
       "      <th>3</th>\n",
       "      <td>4</td>\n",
       "      <td>The Pretender</td>\n",
       "      <td>Foo Fighters</td>\n",
       "      <td>alternative metal</td>\n",
       "      <td>2007</td>\n",
       "      <td>173</td>\n",
       "      <td>96.0</td>\n",
       "      <td>43.0</td>\n",
       "      <td>-4.0</td>\n",
       "      <td>3.0</td>\n",
       "      <td>37.0</td>\n",
       "      <td>269</td>\n",
       "      <td>0</td>\n",
       "      <td>4</td>\n",
       "      <td>76</td>\n",
       "    </tr>\n",
       "    <tr>\n",
       "      <th>4</th>\n",
       "      <td>5</td>\n",
       "      <td>Waitin' On A Sunny Day</td>\n",
       "      <td>Bruce Springsteen</td>\n",
       "      <td>classic rock</td>\n",
       "      <td>2002</td>\n",
       "      <td>106</td>\n",
       "      <td>82.0</td>\n",
       "      <td>58.0</td>\n",
       "      <td>-5.0</td>\n",
       "      <td>10.0</td>\n",
       "      <td>87.0</td>\n",
       "      <td>256</td>\n",
       "      <td>1</td>\n",
       "      <td>3</td>\n",
       "      <td>59</td>\n",
       "    </tr>\n",
       "  </tbody>\n",
       "</table>\n",
       "</div>"
      ],
      "text/plain": [
       "   Index                   Title             Artist            Top Genre  \\\n",
       "0      1                 Sunrise        Norah Jones      adult standards   \n",
       "1      2             Black Night        Deep Purple           album rock   \n",
       "2      3          Clint Eastwood           Gorillaz  alternative hip hop   \n",
       "3      4           The Pretender       Foo Fighters    alternative metal   \n",
       "4      5  Waitin' On A Sunny Day  Bruce Springsteen         classic rock   \n",
       "\n",
       "   Year  Beats Per Minute (BPM)  Energy  Danceability  Loudness (dB)  \\\n",
       "0  2004                     157    30.0          53.0          -14.0   \n",
       "1  2000                     135    79.0          50.0          -11.0   \n",
       "2  2001                     168    69.0          66.0           -9.0   \n",
       "3  2007                     173    96.0          43.0           -4.0   \n",
       "4  2002                     106    82.0          58.0           -5.0   \n",
       "\n",
       "   Liveness  Valence Length (Duration)  Acousticness  Speechiness  Popularity  \n",
       "0      11.0     68.0               201            94            3          71  \n",
       "1      17.0      NaN               207            17            7          39  \n",
       "2       7.0     52.0               341             2           17          69  \n",
       "3       3.0     37.0               269             0            4          76  \n",
       "4      10.0     87.0               256             1            3          59  "
      ]
     },
     "execution_count": 3,
     "metadata": {},
     "output_type": "execute_result"
    }
   ],
   "source": [
    "df.head()"
   ]
  },
  {
   "cell_type": "code",
   "execution_count": 4,
   "id": "b46d8bc6",
   "metadata": {},
   "outputs": [
    {
     "data": {
      "text/plain": [
       "(1994, 15)"
      ]
     },
     "execution_count": 4,
     "metadata": {},
     "output_type": "execute_result"
    }
   ],
   "source": [
    "df.shape"
   ]
  },
  {
   "cell_type": "code",
   "execution_count": 5,
   "id": "5d00838a",
   "metadata": {},
   "outputs": [
    {
     "name": "stdout",
     "output_type": "stream",
     "text": [
      "<class 'pandas.core.frame.DataFrame'>\n",
      "RangeIndex: 1994 entries, 0 to 1993\n",
      "Data columns (total 15 columns):\n",
      " #   Column                  Non-Null Count  Dtype  \n",
      "---  ------                  --------------  -----  \n",
      " 0   Index                   1994 non-null   int64  \n",
      " 1   Title                   1994 non-null   object \n",
      " 2   Artist                  1994 non-null   object \n",
      " 3   Top Genre               1994 non-null   object \n",
      " 4   Year                    1994 non-null   int64  \n",
      " 5   Beats Per Minute (BPM)  1994 non-null   int64  \n",
      " 6   Energy                  1979 non-null   float64\n",
      " 7   Danceability            1903 non-null   float64\n",
      " 8   Loudness (dB)           1934 non-null   float64\n",
      " 9   Liveness                1960 non-null   float64\n",
      " 10  Valence                 1909 non-null   float64\n",
      " 11  Length (Duration)       1994 non-null   object \n",
      " 12  Acousticness            1994 non-null   int64  \n",
      " 13  Speechiness             1994 non-null   int64  \n",
      " 14  Popularity              1994 non-null   int64  \n",
      "dtypes: float64(5), int64(6), object(4)\n",
      "memory usage: 233.8+ KB\n"
     ]
    }
   ],
   "source": [
    "df.info()"
   ]
  },
  {
   "cell_type": "code",
   "execution_count": 6,
   "id": "2d0f52bc",
   "metadata": {},
   "outputs": [
    {
     "data": {
      "text/plain": [
       "Index                      0\n",
       "Title                      0\n",
       "Artist                     0\n",
       "Top Genre                  0\n",
       "Year                       0\n",
       "Beats Per Minute (BPM)     0\n",
       "Energy                    15\n",
       "Danceability              91\n",
       "Loudness (dB)             60\n",
       "Liveness                  34\n",
       "Valence                   85\n",
       "Length (Duration)          0\n",
       "Acousticness               0\n",
       "Speechiness                0\n",
       "Popularity                 0\n",
       "dtype: int64"
      ]
     },
     "execution_count": 6,
     "metadata": {},
     "output_type": "execute_result"
    }
   ],
   "source": [
    "df.isnull().sum()"
   ]
  },
  {
   "cell_type": "code",
   "execution_count": 7,
   "id": "9cdeef68",
   "metadata": {},
   "outputs": [],
   "source": [
    "df.Energy.fillna(76.0,inplace=True)"
   ]
  },
  {
   "cell_type": "code",
   "execution_count": 8,
   "id": "f9c3616e",
   "metadata": {},
   "outputs": [],
   "source": [
    "df.Danceability.bfill(inplace=True)"
   ]
  },
  {
   "cell_type": "code",
   "execution_count": 9,
   "id": "d384907c",
   "metadata": {},
   "outputs": [],
   "source": [
    "df['Loudness (dB)'].fillna(-7.0,inplace=True)"
   ]
  },
  {
   "cell_type": "code",
   "execution_count": 10,
   "id": "c904e98c",
   "metadata": {},
   "outputs": [],
   "source": [
    "df.Liveness.ffill(inplace=True)"
   ]
  },
  {
   "cell_type": "code",
   "execution_count": 11,
   "id": "0ff06ea9",
   "metadata": {},
   "outputs": [],
   "source": [
    "df.Valence.fillna(30.0,inplace=True)"
   ]
  },
  {
   "cell_type": "code",
   "execution_count": 13,
   "id": "0e54ecfc",
   "metadata": {},
   "outputs": [
    {
     "name": "stdout",
     "output_type": "stream",
     "text": [
      "     Index                                              Title Artist  \\\n",
      "904    905  Close to the Edge (i. The Solid Time of Change...    Yes   \n",
      "\n",
      "      Top Genre  Year  Beats Per Minute (BPM)  Energy  Danceability  \\\n",
      "904  album rock  1972                      81    60.0          67.0   \n",
      "\n",
      "     Loudness (dB)  Liveness  Valence Length (Duration)  Acousticness  \\\n",
      "904           -7.0      41.0     25.0             1,121            27   \n",
      "\n",
      "     Speechiness  Popularity  \n",
      "904            6          47  \n"
     ]
    }
   ],
   "source": [
    "condition = df['Length (Duration)'] == '1,121'\n",
    "\n",
    "# Extract rows based on the condition\n",
    "result = df[condition]\n",
    "\n",
    "# Print the result\n",
    "print(result)"
   ]
  },
  {
   "cell_type": "code",
   "execution_count": 14,
   "id": "bac551ff",
   "metadata": {},
   "outputs": [],
   "source": [
    "df.drop(904,axis=0,inplace=True)"
   ]
  },
  {
   "cell_type": "code",
   "execution_count": 15,
   "id": "8c00ce85",
   "metadata": {},
   "outputs": [
    {
     "name": "stdout",
     "output_type": "stream",
     "text": [
      "     Index                     Title     Artist   Top Genre  Year  \\\n",
      "951    952  Autobahn - 2009 Remaster  Kraftwerk  dance rock  1974   \n",
      "\n",
      "     Beats Per Minute (BPM)  Energy  Danceability  Loudness (dB)  Liveness  \\\n",
      "951                      82    50.0          33.0          -16.0      13.0   \n",
      "\n",
      "     Valence Length (Duration)  Acousticness  Speechiness  Popularity  \n",
      "951     11.0             1,367            11            4          48  \n"
     ]
    }
   ],
   "source": [
    "condition = df['Length (Duration)'] == '1,367'\n",
    "\n",
    "# Extract rows based on the condition\n",
    "result = df[condition]\n",
    "\n",
    "# Print the result\n",
    "print(result)\n",
    "\n",
    "df.drop(951,axis=0,inplace=True)"
   ]
  },
  {
   "cell_type": "code",
   "execution_count": 16,
   "id": "7b3396fd",
   "metadata": {},
   "outputs": [
    {
     "name": "stdout",
     "output_type": "stream",
     "text": [
      "      Index      Title      Artist   Top Genre  Year  Beats Per Minute (BPM)  \\\n",
      "1982   1983  Get Ready  Rare Earth  blues rock  1969                     127   \n",
      "\n",
      "      Energy  Danceability  Loudness (dB)  Liveness  Valence  \\\n",
      "1982    87.0          41.0           -6.0      83.0     65.0   \n",
      "\n",
      "     Length (Duration)  Acousticness  Speechiness  Popularity  \n",
      "1982             1,292             0            4          45  \n"
     ]
    }
   ],
   "source": [
    "condition = df['Length (Duration)'] == '1,292'\n",
    "\n",
    "# Extract rows based on the condition\n",
    "result = df[condition]\n",
    "\n",
    "# Print the result\n",
    "print(result)\n",
    "\n",
    "df.drop(1982,axis=0,inplace=True)"
   ]
  },
  {
   "cell_type": "code",
   "execution_count": 17,
   "id": "09178994",
   "metadata": {},
   "outputs": [
    {
     "name": "stdout",
     "output_type": "stream",
     "text": [
      "     Index   Title      Artist   Top Genre  Year  Beats Per Minute (BPM)  \\\n",
      "842    843  Echoes  Pink Floyd  album rock  1971                     134   \n",
      "\n",
      "     Energy  Danceability  Loudness (dB)  Liveness  Valence Length (Duration)  \\\n",
      "842    32.0          28.0          -17.0      11.0     14.0             1,412   \n",
      "\n",
      "     Acousticness  Speechiness  Popularity  \n",
      "842            37            4          58  \n"
     ]
    }
   ],
   "source": [
    "condition = df['Length (Duration)'] == '1,412'\n",
    "\n",
    "# Extract rows based on the condition\n",
    "result = df[condition]\n",
    "\n",
    "# Print the result\n",
    "print(result)\n",
    "\n",
    "df.drop(842,axis=0,inplace=True)"
   ]
  },
  {
   "cell_type": "code",
   "execution_count": 19,
   "id": "9d293d62",
   "metadata": {},
   "outputs": [],
   "source": [
    "# Drop non-numeric columns that are not needed for clustering\n",
    "numeric_data = df.drop(['Index', 'Title', 'Artist', 'Top Genre'], axis=1)"
   ]
  },
  {
   "cell_type": "code",
   "execution_count": 20,
   "id": "68e80fe4",
   "metadata": {},
   "outputs": [
    {
     "data": {
      "text/html": [
       "<div>\n",
       "<style scoped>\n",
       "    .dataframe tbody tr th:only-of-type {\n",
       "        vertical-align: middle;\n",
       "    }\n",
       "\n",
       "    .dataframe tbody tr th {\n",
       "        vertical-align: top;\n",
       "    }\n",
       "\n",
       "    .dataframe thead th {\n",
       "        text-align: right;\n",
       "    }\n",
       "</style>\n",
       "<table border=\"1\" class=\"dataframe\">\n",
       "  <thead>\n",
       "    <tr style=\"text-align: right;\">\n",
       "      <th></th>\n",
       "      <th>Year</th>\n",
       "      <th>Beats Per Minute (BPM)</th>\n",
       "      <th>Energy</th>\n",
       "      <th>Danceability</th>\n",
       "      <th>Loudness (dB)</th>\n",
       "      <th>Liveness</th>\n",
       "      <th>Valence</th>\n",
       "      <th>Length (Duration)</th>\n",
       "      <th>Acousticness</th>\n",
       "      <th>Speechiness</th>\n",
       "      <th>Popularity</th>\n",
       "    </tr>\n",
       "  </thead>\n",
       "  <tbody>\n",
       "    <tr>\n",
       "      <th>0</th>\n",
       "      <td>2004</td>\n",
       "      <td>157</td>\n",
       "      <td>30.0</td>\n",
       "      <td>53.0</td>\n",
       "      <td>-14.0</td>\n",
       "      <td>11.0</td>\n",
       "      <td>68.0</td>\n",
       "      <td>201</td>\n",
       "      <td>94</td>\n",
       "      <td>3</td>\n",
       "      <td>71</td>\n",
       "    </tr>\n",
       "    <tr>\n",
       "      <th>1</th>\n",
       "      <td>2000</td>\n",
       "      <td>135</td>\n",
       "      <td>79.0</td>\n",
       "      <td>50.0</td>\n",
       "      <td>-11.0</td>\n",
       "      <td>17.0</td>\n",
       "      <td>30.0</td>\n",
       "      <td>207</td>\n",
       "      <td>17</td>\n",
       "      <td>7</td>\n",
       "      <td>39</td>\n",
       "    </tr>\n",
       "    <tr>\n",
       "      <th>2</th>\n",
       "      <td>2001</td>\n",
       "      <td>168</td>\n",
       "      <td>69.0</td>\n",
       "      <td>66.0</td>\n",
       "      <td>-9.0</td>\n",
       "      <td>7.0</td>\n",
       "      <td>52.0</td>\n",
       "      <td>341</td>\n",
       "      <td>2</td>\n",
       "      <td>17</td>\n",
       "      <td>69</td>\n",
       "    </tr>\n",
       "    <tr>\n",
       "      <th>3</th>\n",
       "      <td>2007</td>\n",
       "      <td>173</td>\n",
       "      <td>96.0</td>\n",
       "      <td>43.0</td>\n",
       "      <td>-4.0</td>\n",
       "      <td>3.0</td>\n",
       "      <td>37.0</td>\n",
       "      <td>269</td>\n",
       "      <td>0</td>\n",
       "      <td>4</td>\n",
       "      <td>76</td>\n",
       "    </tr>\n",
       "    <tr>\n",
       "      <th>4</th>\n",
       "      <td>2002</td>\n",
       "      <td>106</td>\n",
       "      <td>82.0</td>\n",
       "      <td>58.0</td>\n",
       "      <td>-5.0</td>\n",
       "      <td>10.0</td>\n",
       "      <td>87.0</td>\n",
       "      <td>256</td>\n",
       "      <td>1</td>\n",
       "      <td>3</td>\n",
       "      <td>59</td>\n",
       "    </tr>\n",
       "    <tr>\n",
       "      <th>...</th>\n",
       "      <td>...</td>\n",
       "      <td>...</td>\n",
       "      <td>...</td>\n",
       "      <td>...</td>\n",
       "      <td>...</td>\n",
       "      <td>...</td>\n",
       "      <td>...</td>\n",
       "      <td>...</td>\n",
       "      <td>...</td>\n",
       "      <td>...</td>\n",
       "      <td>...</td>\n",
       "    </tr>\n",
       "    <tr>\n",
       "      <th>1989</th>\n",
       "      <td>1958</td>\n",
       "      <td>94</td>\n",
       "      <td>21.0</td>\n",
       "      <td>70.0</td>\n",
       "      <td>-12.0</td>\n",
       "      <td>11.0</td>\n",
       "      <td>72.0</td>\n",
       "      <td>128</td>\n",
       "      <td>84</td>\n",
       "      <td>7</td>\n",
       "      <td>63</td>\n",
       "    </tr>\n",
       "    <tr>\n",
       "      <th>1990</th>\n",
       "      <td>1958</td>\n",
       "      <td>175</td>\n",
       "      <td>76.0</td>\n",
       "      <td>36.0</td>\n",
       "      <td>-8.0</td>\n",
       "      <td>76.0</td>\n",
       "      <td>95.0</td>\n",
       "      <td>136</td>\n",
       "      <td>73</td>\n",
       "      <td>6</td>\n",
       "      <td>69</td>\n",
       "    </tr>\n",
       "    <tr>\n",
       "      <th>1991</th>\n",
       "      <td>1959</td>\n",
       "      <td>168</td>\n",
       "      <td>80.0</td>\n",
       "      <td>53.0</td>\n",
       "      <td>-9.0</td>\n",
       "      <td>31.0</td>\n",
       "      <td>30.0</td>\n",
       "      <td>162</td>\n",
       "      <td>74</td>\n",
       "      <td>7</td>\n",
       "      <td>74</td>\n",
       "    </tr>\n",
       "    <tr>\n",
       "      <th>1992</th>\n",
       "      <td>1959</td>\n",
       "      <td>174</td>\n",
       "      <td>26.0</td>\n",
       "      <td>45.0</td>\n",
       "      <td>-13.0</td>\n",
       "      <td>7.0</td>\n",
       "      <td>60.0</td>\n",
       "      <td>324</td>\n",
       "      <td>54</td>\n",
       "      <td>4</td>\n",
       "      <td>65</td>\n",
       "    </tr>\n",
       "    <tr>\n",
       "      <th>1993</th>\n",
       "      <td>1959</td>\n",
       "      <td>133</td>\n",
       "      <td>50.0</td>\n",
       "      <td>49.0</td>\n",
       "      <td>-10.0</td>\n",
       "      <td>16.0</td>\n",
       "      <td>83.0</td>\n",
       "      <td>148</td>\n",
       "      <td>74</td>\n",
       "      <td>3</td>\n",
       "      <td>56</td>\n",
       "    </tr>\n",
       "  </tbody>\n",
       "</table>\n",
       "<p>1990 rows × 11 columns</p>\n",
       "</div>"
      ],
      "text/plain": [
       "      Year  Beats Per Minute (BPM)  Energy  Danceability  Loudness (dB)  \\\n",
       "0     2004                     157    30.0          53.0          -14.0   \n",
       "1     2000                     135    79.0          50.0          -11.0   \n",
       "2     2001                     168    69.0          66.0           -9.0   \n",
       "3     2007                     173    96.0          43.0           -4.0   \n",
       "4     2002                     106    82.0          58.0           -5.0   \n",
       "...    ...                     ...     ...           ...            ...   \n",
       "1989  1958                      94    21.0          70.0          -12.0   \n",
       "1990  1958                     175    76.0          36.0           -8.0   \n",
       "1991  1959                     168    80.0          53.0           -9.0   \n",
       "1992  1959                     174    26.0          45.0          -13.0   \n",
       "1993  1959                     133    50.0          49.0          -10.0   \n",
       "\n",
       "      Liveness  Valence Length (Duration)  Acousticness  Speechiness  \\\n",
       "0         11.0     68.0               201            94            3   \n",
       "1         17.0     30.0               207            17            7   \n",
       "2          7.0     52.0               341             2           17   \n",
       "3          3.0     37.0               269             0            4   \n",
       "4         10.0     87.0               256             1            3   \n",
       "...        ...      ...               ...           ...          ...   \n",
       "1989      11.0     72.0               128            84            7   \n",
       "1990      76.0     95.0               136            73            6   \n",
       "1991      31.0     30.0               162            74            7   \n",
       "1992       7.0     60.0               324            54            4   \n",
       "1993      16.0     83.0               148            74            3   \n",
       "\n",
       "      Popularity  \n",
       "0             71  \n",
       "1             39  \n",
       "2             69  \n",
       "3             76  \n",
       "4             59  \n",
       "...          ...  \n",
       "1989          63  \n",
       "1990          69  \n",
       "1991          74  \n",
       "1992          65  \n",
       "1993          56  \n",
       "\n",
       "[1990 rows x 11 columns]"
      ]
     },
     "execution_count": 20,
     "metadata": {},
     "output_type": "execute_result"
    }
   ],
   "source": [
    "numeric_data"
   ]
  },
  {
   "cell_type": "code",
   "execution_count": null,
   "id": "c79a112d",
   "metadata": {},
   "outputs": [],
   "source": []
  },
  {
   "cell_type": "code",
   "execution_count": 24,
   "id": "b6735b57",
   "metadata": {},
   "outputs": [],
   "source": [
    "wcss = []\n",
    "\n",
    "for i in range(1,11):\n",
    "    kmeans = KMeans(n_clusters=i,init='k-means++',random_state=12)\n",
    "    kmeans.fit(numeric_data)\n",
    "    \n",
    "    wcss.append(kmeans.inertia_)"
   ]
  },
  {
   "cell_type": "code",
   "execution_count": 25,
   "id": "257a71ce",
   "metadata": {},
   "outputs": [
    {
     "data": {
      "image/png": "[encoded data removed]",
      "text/plain": [
       "<Figure size 640x480 with 1 Axes>"
      ]
     },
     "metadata": {},
     "output_type": "display_data"
    }
   ],
   "source": [
    "## plot an elbow graph\n",
    "\n",
    "sns.set()\n",
    "plt.plot(range(1,11),wcss)\n",
    "plt.title(\"The Elbow Point Graph\")\n",
    "plt.xlabel(\"Number of Clusters\")\n",
    "plt.ylabel(\"WCSS\")\n",
    "plt.show()"
   ]
  },
  {
   "cell_type": "code",
   "execution_count": 27,
   "id": "81377291",
   "metadata": {},
   "outputs": [],
   "source": [
    "# Optimum Number of Clusters = 3\n",
    "\n",
    "# Training the k-means clustering model\n",
    "\n",
    "kmeans = KMeans(n_clusters=3,init='k-means++',random_state=12)"
   ]
  },
  {
   "cell_type": "code",
   "execution_count": 28,
   "id": "b3a399ac",
   "metadata": {},
   "outputs": [
    {
     "name": "stdout",
     "output_type": "stream",
     "text": [
      "[1 1 0 ... 1 0 1]\n"
     ]
    }
   ],
   "source": [
    "# RETURN A LABEL FOR EACH DATA POINTS BASED ON THRIE CLUSTERS\n",
    "y = kmeans.fit_predict(numeric_data)\n",
    "print(y)"
   ]
  },
  {
   "cell_type": "code",
   "execution_count": 33,
   "id": "415c3dd9",
   "metadata": {},
   "outputs": [
    {
     "ename": "InvalidIndexError",
     "evalue": "(array([False, False,  True, ..., False,  True, False]), 0)",
     "output_type": "error",
     "traceback": [
      "\u001b[1;31m---------------------------------------------------------------------------\u001b[0m",
      "\u001b[1;31mTypeError\u001b[0m                                 Traceback (most recent call last)",
      "File \u001b[1;32m~\\anaconda3\\anaconda\\Lib\\site-packages\\pandas\\core\\indexes\\base.py:3653\u001b[0m, in \u001b[0;36mIndex.get_loc\u001b[1;34m(self, key)\u001b[0m\n\u001b[0;32m   3652\u001b[0m \u001b[38;5;28;01mtry\u001b[39;00m:\n\u001b[1;32m-> 3653\u001b[0m     \u001b[38;5;28;01mreturn\u001b[39;00m \u001b[38;5;28mself\u001b[39m\u001b[38;5;241m.\u001b[39m_engine\u001b[38;5;241m.\u001b[39mget_loc(casted_key)\n\u001b[0;32m   3654\u001b[0m \u001b[38;5;28;01mexcept\u001b[39;00m \u001b[38;5;167;01mKeyError\u001b[39;00m \u001b[38;5;28;01mas\u001b[39;00m err:\n",
      "File \u001b[1;32m~\\anaconda3\\anaconda\\Lib\\site-packages\\pandas\\_libs\\index.pyx:147\u001b[0m, in \u001b[0;36mpandas._libs.index.IndexEngine.get_loc\u001b[1;34m()\u001b[0m\n",
      "File \u001b[1;32m~\\anaconda3\\anaconda\\Lib\\site-packages\\pandas\\_libs\\index.pyx:153\u001b[0m, in \u001b[0;36mpandas._libs.index.IndexEngine.get_loc\u001b[1;34m()\u001b[0m\n",
      "\u001b[1;31mTypeError\u001b[0m: '(array([False, False,  True, ..., False,  True, False]), 0)' is an invalid key",
      "\nDuring handling of the above exception, another exception occurred:\n",
      "\u001b[1;31mInvalidIndexError\u001b[0m                         Traceback (most recent call last)",
      "Cell \u001b[1;32mIn[33], line 6\u001b[0m\n\u001b[0;32m      1\u001b[0m \u001b[38;5;66;03m## Visualizing all the clusters\u001b[39;00m\n\u001b[0;32m      2\u001b[0m \u001b[38;5;66;03m## plotting all the clusters and theie centroids\u001b[39;00m\n\u001b[0;32m      3\u001b[0m \u001b[38;5;66;03m# 3 clusters = 1,2,3\u001b[39;00m\n\u001b[0;32m      5\u001b[0m plt\u001b[38;5;241m.\u001b[39mfigure(figsize\u001b[38;5;241m=\u001b[39m(\u001b[38;5;241m8\u001b[39m,\u001b[38;5;241m8\u001b[39m))\n\u001b[1;32m----> 6\u001b[0m plt\u001b[38;5;241m.\u001b[39mscatter(numeric_data[y\u001b[38;5;241m==\u001b[39m\u001b[38;5;241m0\u001b[39m,\u001b[38;5;241m0\u001b[39m],numeric_data[y\u001b[38;5;241m==\u001b[39m\u001b[38;5;241m0\u001b[39m,\u001b[38;5;241m1\u001b[39m],s\u001b[38;5;241m=\u001b[39m\u001b[38;5;241m50\u001b[39m,c\u001b[38;5;241m=\u001b[39m\u001b[38;5;124m'\u001b[39m\u001b[38;5;124mgreen\u001b[39m\u001b[38;5;124m'\u001b[39m,label\u001b[38;5;241m=\u001b[39m\u001b[38;5;124m'\u001b[39m\u001b[38;5;124mCluster 1\u001b[39m\u001b[38;5;124m'\u001b[39m)\n\u001b[0;32m      7\u001b[0m plt\u001b[38;5;241m.\u001b[39mscatter(numeric_data[y\u001b[38;5;241m==\u001b[39m\u001b[38;5;241m1\u001b[39m,\u001b[38;5;241m0\u001b[39m],numeric_data[y\u001b[38;5;241m==\u001b[39m\u001b[38;5;241m1\u001b[39m,\u001b[38;5;241m1\u001b[39m],s\u001b[38;5;241m=\u001b[39m\u001b[38;5;241m50\u001b[39m,c\u001b[38;5;241m=\u001b[39m\u001b[38;5;124m'\u001b[39m\u001b[38;5;124mred\u001b[39m\u001b[38;5;124m'\u001b[39m,label\u001b[38;5;241m=\u001b[39m\u001b[38;5;124m'\u001b[39m\u001b[38;5;124mCluster 2\u001b[39m\u001b[38;5;124m'\u001b[39m)\n\u001b[0;32m      8\u001b[0m plt\u001b[38;5;241m.\u001b[39mscatter(numeric_data[y\u001b[38;5;241m==\u001b[39m\u001b[38;5;241m2\u001b[39m,\u001b[38;5;241m0\u001b[39m],numeric_data[y\u001b[38;5;241m==\u001b[39m\u001b[38;5;241m2\u001b[39m,\u001b[38;5;241m1\u001b[39m],s\u001b[38;5;241m=\u001b[39m\u001b[38;5;241m50\u001b[39m,c\u001b[38;5;241m=\u001b[39m\u001b[38;5;124m'\u001b[39m\u001b[38;5;124myellow\u001b[39m\u001b[38;5;124m'\u001b[39m,label\u001b[38;5;241m=\u001b[39m\u001b[38;5;124m'\u001b[39m\u001b[38;5;124mCluster 3\u001b[39m\u001b[38;5;124m'\u001b[39m)\n",
      "File \u001b[1;32m~\\anaconda3\\anaconda\\Lib\\site-packages\\pandas\\core\\frame.py:3761\u001b[0m, in \u001b[0;36mDataFrame.__getitem__\u001b[1;34m(self, key)\u001b[0m\n\u001b[0;32m   3759\u001b[0m \u001b[38;5;28;01mif\u001b[39;00m \u001b[38;5;28mself\u001b[39m\u001b[38;5;241m.\u001b[39mcolumns\u001b[38;5;241m.\u001b[39mnlevels \u001b[38;5;241m>\u001b[39m \u001b[38;5;241m1\u001b[39m:\n\u001b[0;32m   3760\u001b[0m     \u001b[38;5;28;01mreturn\u001b[39;00m \u001b[38;5;28mself\u001b[39m\u001b[38;5;241m.\u001b[39m_getitem_multilevel(key)\n\u001b[1;32m-> 3761\u001b[0m indexer \u001b[38;5;241m=\u001b[39m \u001b[38;5;28mself\u001b[39m\u001b[38;5;241m.\u001b[39mcolumns\u001b[38;5;241m.\u001b[39mget_loc(key)\n\u001b[0;32m   3762\u001b[0m \u001b[38;5;28;01mif\u001b[39;00m is_integer(indexer):\n\u001b[0;32m   3763\u001b[0m     indexer \u001b[38;5;241m=\u001b[39m [indexer]\n",
      "File \u001b[1;32m~\\anaconda3\\anaconda\\Lib\\site-packages\\pandas\\core\\indexes\\base.py:3660\u001b[0m, in \u001b[0;36mIndex.get_loc\u001b[1;34m(self, key)\u001b[0m\n\u001b[0;32m   3655\u001b[0m     \u001b[38;5;28;01mraise\u001b[39;00m \u001b[38;5;167;01mKeyError\u001b[39;00m(key) \u001b[38;5;28;01mfrom\u001b[39;00m \u001b[38;5;21;01merr\u001b[39;00m\n\u001b[0;32m   3656\u001b[0m \u001b[38;5;28;01mexcept\u001b[39;00m \u001b[38;5;167;01mTypeError\u001b[39;00m:\n\u001b[0;32m   3657\u001b[0m     \u001b[38;5;66;03m# If we have a listlike key, _check_indexing_error will raise\u001b[39;00m\n\u001b[0;32m   3658\u001b[0m     \u001b[38;5;66;03m#  InvalidIndexError. Otherwise we fall through and re-raise\u001b[39;00m\n\u001b[0;32m   3659\u001b[0m     \u001b[38;5;66;03m#  the TypeError.\u001b[39;00m\n\u001b[1;32m-> 3660\u001b[0m     \u001b[38;5;28mself\u001b[39m\u001b[38;5;241m.\u001b[39m_check_indexing_error(key)\n\u001b[0;32m   3661\u001b[0m     \u001b[38;5;28;01mraise\u001b[39;00m\n",
      "File \u001b[1;32m~\\anaconda3\\anaconda\\Lib\\site-packages\\pandas\\core\\indexes\\base.py:5737\u001b[0m, in \u001b[0;36mIndex._check_indexing_error\u001b[1;34m(self, key)\u001b[0m\n\u001b[0;32m   5733\u001b[0m \u001b[38;5;28;01mdef\u001b[39;00m \u001b[38;5;21m_check_indexing_error\u001b[39m(\u001b[38;5;28mself\u001b[39m, key):\n\u001b[0;32m   5734\u001b[0m     \u001b[38;5;28;01mif\u001b[39;00m \u001b[38;5;129;01mnot\u001b[39;00m is_scalar(key):\n\u001b[0;32m   5735\u001b[0m         \u001b[38;5;66;03m# if key is not a scalar, directly raise an error (the code below\u001b[39;00m\n\u001b[0;32m   5736\u001b[0m         \u001b[38;5;66;03m# would convert to numpy arrays and raise later any way) - GH29926\u001b[39;00m\n\u001b[1;32m-> 5737\u001b[0m         \u001b[38;5;28;01mraise\u001b[39;00m InvalidIndexError(key)\n",
      "\u001b[1;31mInvalidIndexError\u001b[0m: (array([False, False,  True, ..., False,  True, False]), 0)"
     ]
    },
    {
     "data": {
      "text/plain": [
       "<Figure size 800x800 with 0 Axes>"
      ]
     },
     "metadata": {},
     "output_type": "display_data"
    }
   ],
   "source": [
    "## Visualizing all the clusters\n",
    "## plotting all the clusters and theie centroids\n",
    "# 3 clusters = 1,2,3\n",
    "\n",
    "plt.figure(figsize=(8,8))\n",
    "plt.scatter(numeric_data[y==0,0],numeric_data[y==0,1],s=50,c='green',label='Cluster 1')\n",
    "plt.scatter(numeric_data[y==1,0],numeric_data[y==1,1],s=50,c='red',label='Cluster 2')\n",
    "plt.scatter(numeric_data[y==2,0],numeric_data[y==2,1],s=50,c='yellow',label='Cluster 3')\n",
    "\n",
    "# Plot the centroids\n",
    "plt.scatter(kmeans.cluster_centers_[:,0], kmeans.cluster_centers_[:,1],s=100,\n",
    "            color='black',label='Centroids')\n",
    "plt.title(\"Customer Clusters\")\n",
    "plt.xlabel(\"Annual Income\")\n",
    "plt.ylabel(\"Spending Score\")\n",
    "plt.show()"
   ]
  },
  {
   "cell_type": "code",
   "execution_count": null,
   "id": "61bc7380",
   "metadata": {},
   "outputs": [],
   "source": []
  }
 ],
 "metadata": {
  "kernelspec": {
   "display_name": "Python 3 (ipykernel)",
   "language": "python",
   "name": "python3"
  },
  "language_info": {
   "codemirror_mode": {
    "name": "ipython",
    "version": 3
   },
   "file_extension": ".py",
   "mimetype": "text/x-python",
   "name": "python",
   "nbconvert_exporter": "python",
   "pygments_lexer": "ipython3",
   "version": "3.11.5"
  }
 },
 "nbformat": 4,
 "nbformat_minor": 5
}
